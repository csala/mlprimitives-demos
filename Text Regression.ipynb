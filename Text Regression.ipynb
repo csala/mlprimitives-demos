{
 "cells": [
  {
   "cell_type": "code",
   "execution_count": 1,
   "metadata": {},
   "outputs": [],
   "source": [
    "import json\n",
    "\n",
    "def pp(a_dict):\n",
    "    print(json.dumps(a_dict, indent=4))"
   ]
  },
  {
   "cell_type": "code",
   "execution_count": 2,
   "metadata": {},
   "outputs": [],
   "source": [
    "from mlblocks.discovery import find_pipelines, load_pipeline, load_primitive"
   ]
  },
  {
   "cell_type": "code",
   "execution_count": 3,
   "metadata": {},
   "outputs": [
    {
     "data": {
      "text/plain": [
       "['keras.Sequential.LSTMBinaryTextClassifier',\n",
       " 'keras.Sequential.LSTMTextClassifier',\n",
       " 'mlprimitives.custom.feature_extraction.CategoricalEncoder',\n",
       " 'mlprimitives.custom.feature_extraction.DatetimeFeaturizer',\n",
       " 'mlprimitives.custom.feature_extraction.StringVectorizer',\n",
       " 'mlprimitives.custom.text.TextCleaner',\n",
       " 'text.classification.lstm']"
      ]
     },
     "execution_count": 3,
     "metadata": {},
     "output_type": "execute_result"
    }
   ],
   "source": [
    "filters = {\n",
    "    'metadata.data_type': 'text'\n",
    "}\n",
    "find_pipelines(filters=filters)"
   ]
  },
  {
   "cell_type": "code",
   "execution_count": 4,
   "metadata": {},
   "outputs": [
    {
     "data": {
      "text/plain": [
       "['mlprimitives.custom.text.TextCleaner',\n",
       " 'single_table.classification.text',\n",
       " 'single_table.regression.text',\n",
       " 'text.classification.lstm']"
      ]
     },
     "execution_count": 4,
     "metadata": {},
     "output_type": "execute_result"
    }
   ],
   "source": [
    "find_pipelines('text')"
   ]
  },
  {
   "cell_type": "code",
   "execution_count": 5,
   "metadata": {},
   "outputs": [
    {
     "name": "stdout",
     "output_type": "stream",
     "text": [
      "{\n",
      "    \"metadata\": {\n",
      "        \"name\": \"single_table/classification/text\",\n",
      "        \"data_type\": \"single_table\",\n",
      "        \"task_type\": \"classification\"\n",
      "    },\n",
      "    \"validation\": {\n",
      "        \"dataset\": \"personae\"\n",
      "    },\n",
      "    \"primitives\": [\n",
      "        \"mlprimitives.custom.preprocessing.ClassEncoder\",\n",
      "        \"mlprimitives.custom.text.TextCleaner\",\n",
      "        \"mlprimitives.custom.feature_extraction.StringVectorizer\",\n",
      "        \"sklearn.impute.SimpleImputer\",\n",
      "        \"sklearn.ensemble.RandomForestClassifier\",\n",
      "        \"mlprimitives.custom.preprocessing.ClassDecoder\"\n",
      "    ],\n",
      "    \"init_params\": {\n",
      "        \"mlprimitives.custom.text.TextCleaner\": {\n",
      "            \"column\": \"text\"\n",
      "        }\n",
      "    }\n",
      "}\n"
     ]
    }
   ],
   "source": [
    "pp(load_pipeline('single_table.classification.text'))"
   ]
  },
  {
   "cell_type": "code",
   "execution_count": 6,
   "metadata": {},
   "outputs": [],
   "source": [
    "pipeline_dict = load_pipeline('single_table.regression.text')"
   ]
  },
  {
   "cell_type": "code",
   "execution_count": 7,
   "metadata": {},
   "outputs": [
    {
     "name": "stdout",
     "output_type": "stream",
     "text": [
      "{\n",
      "    \"metadata\": {\n",
      "        \"name\": \"single_table/regression/text\",\n",
      "        \"data_type\": \"single_table\",\n",
      "        \"task_type\": \"regression\"\n",
      "    },\n",
      "    \"validation\": {\n",
      "        \"dataset\": \"reviews\"\n",
      "    },\n",
      "    \"primitives\": [\n",
      "        \"mlprimitives.custom.feature_extraction.CategoricalEncoder\",\n",
      "        \"mlprimitives.custom.feature_extraction.StringVectorizer\",\n",
      "        \"sklearn.impute.SimpleImputer\",\n",
      "        \"xgboost.XGBRegressor\"\n",
      "    ]\n",
      "}\n"
     ]
    }
   ],
   "source": [
    "pp(pipeline_dict)"
   ]
  },
  {
   "cell_type": "code",
   "execution_count": 13,
   "metadata": {},
   "outputs": [],
   "source": [
    "from mlprimitives.datasets import _load, _load_csv, Dataset\n",
    "from sklearn.metrics import r2_score\n",
    "\n",
    "dataset_path = _load('reviews')\n",
    "\n",
    "X = _load_csv(dataset_path, 'data')\n",
    "y = X.pop('evaluation').values\n",
    "\n",
    "reviews = Dataset('\\n', X, y, r2_score, 'text', 'regression', 'univariate')"
   ]
  },
  {
   "cell_type": "code",
   "execution_count": 14,
   "metadata": {},
   "outputs": [
    {
     "data": {
      "text/html": [
       "<div>\n",
       "<style scoped>\n",
       "    .dataframe tbody tr th:only-of-type {\n",
       "        vertical-align: middle;\n",
       "    }\n",
       "\n",
       "    .dataframe tbody tr th {\n",
       "        vertical-align: top;\n",
       "    }\n",
       "\n",
       "    .dataframe thead th {\n",
       "        text-align: right;\n",
       "    }\n",
       "</style>\n",
       "<table border=\"1\" class=\"dataframe\">\n",
       "  <thead>\n",
       "    <tr style=\"text-align: right;\">\n",
       "      <th></th>\n",
       "      <th>confidence</th>\n",
       "      <th>id</th>\n",
       "      <th>lan</th>\n",
       "      <th>orientation</th>\n",
       "      <th>remarks</th>\n",
       "      <th>text</th>\n",
       "      <th>timespan</th>\n",
       "    </tr>\n",
       "  </thead>\n",
       "  <tbody>\n",
       "    <tr>\n",
       "      <th>0</th>\n",
       "      <td>4.0</td>\n",
       "      <td>1</td>\n",
       "      <td>es</td>\n",
       "      <td>0</td>\n",
       "      <td>NaN</td>\n",
       "      <td>- El artículo aborda un problema contingente y...</td>\n",
       "      <td>2010-07-05</td>\n",
       "    </tr>\n",
       "    <tr>\n",
       "      <th>1</th>\n",
       "      <td>4.0</td>\n",
       "      <td>2</td>\n",
       "      <td>es</td>\n",
       "      <td>1</td>\n",
       "      <td>NaN</td>\n",
       "      <td>El artículo presenta recomendaciones prácticas...</td>\n",
       "      <td>2010-07-05</td>\n",
       "    </tr>\n",
       "    <tr>\n",
       "      <th>2</th>\n",
       "      <td>5.0</td>\n",
       "      <td>3</td>\n",
       "      <td>es</td>\n",
       "      <td>1</td>\n",
       "      <td>NaN</td>\n",
       "      <td>- El tema es muy interesante y puede ser de mu...</td>\n",
       "      <td>2010-07-05</td>\n",
       "    </tr>\n",
       "    <tr>\n",
       "      <th>3</th>\n",
       "      <td>4.0</td>\n",
       "      <td>1</td>\n",
       "      <td>es</td>\n",
       "      <td>1</td>\n",
       "      <td>NaN</td>\n",
       "      <td>Se explica en forma ordenada y didáctica una e...</td>\n",
       "      <td>2010-07-05</td>\n",
       "    </tr>\n",
       "    <tr>\n",
       "      <th>4</th>\n",
       "      <td>4.0</td>\n",
       "      <td>2</td>\n",
       "      <td>es</td>\n",
       "      <td>0</td>\n",
       "      <td>NaN</td>\n",
       "      <td>NaN</td>\n",
       "      <td>2010-07-05</td>\n",
       "    </tr>\n",
       "  </tbody>\n",
       "</table>\n",
       "</div>"
      ],
      "text/plain": [
       "   confidence  id lan  orientation remarks  \\\n",
       "0         4.0   1  es            0     NaN   \n",
       "1         4.0   2  es            1     NaN   \n",
       "2         5.0   3  es            1     NaN   \n",
       "3         4.0   1  es            1     NaN   \n",
       "4         4.0   2  es            0     NaN   \n",
       "\n",
       "                                                text    timespan  \n",
       "0  - El artículo aborda un problema contingente y...  2010-07-05  \n",
       "1  El artículo presenta recomendaciones prácticas...  2010-07-05  \n",
       "2  - El tema es muy interesante y puede ser de mu...  2010-07-05  \n",
       "3  Se explica en forma ordenada y didáctica una e...  2010-07-05  \n",
       "4                                                NaN  2010-07-05  "
      ]
     },
     "execution_count": 14,
     "metadata": {},
     "output_type": "execute_result"
    }
   ],
   "source": [
    "reviews.data.head()"
   ]
  },
  {
   "cell_type": "code",
   "execution_count": 15,
   "metadata": {},
   "outputs": [
    {
     "data": {
      "text/plain": [
       "array([1, 1, 1, 2, 2])"
      ]
     },
     "execution_count": 15,
     "metadata": {},
     "output_type": "execute_result"
    }
   ],
   "source": [
    "reviews.target[0:5]"
   ]
  },
  {
   "cell_type": "code",
   "execution_count": 16,
   "metadata": {},
   "outputs": [
    {
     "data": {
      "text/plain": [
       "array([ 1,  2,  0, -2, -1])"
      ]
     },
     "execution_count": 16,
     "metadata": {},
     "output_type": "execute_result"
    }
   ],
   "source": [
    "import pandas as pd\n",
    "\n",
    "pd.Series(reviews.target).unique()"
   ]
  },
  {
   "cell_type": "code",
   "execution_count": 27,
   "metadata": {},
   "outputs": [],
   "source": [
    "pipeline_dict = {\n",
    "    \"metadata\": {\n",
    "        \"name\": \"single_table/regression/text\",\n",
    "        \"data_type\": \"single_table\",\n",
    "        \"task_type\": \"regression\"\n",
    "    },\n",
    "    \"validation\": {\n",
    "        \"dataset\": \"reviews\"\n",
    "    },\n",
    "    \"primitives\": [\n",
    "        \"mlprimitives.custom.text.TextCleaner\",\n",
    "        \"mlprimitives.custom.text.TextCleaner\",\n",
    "        \"mlprimitives.custom.feature_extraction.StringVectorizer\",\n",
    "        \"mlprimitives.custom.feature_extraction.CategoricalEncoder\",\n",
    "        \"sklearn.impute.SimpleImputer\",\n",
    "        'mlprimitives.custom.feature_selection.ExtraTreesRegressorFeatureSelector',\n",
    "        \"xgboost.XGBRegressor\"\n",
    "    ],\n",
    "    \"init_params\": {\n",
    "        \"mlprimitives.custom.text.TextCleaner#1\": {\n",
    "            \"column\": \"text\",\n",
    "            \"stopwords\": False,\n",
    "        },\n",
    "        \"mlprimitives.custom.text.TextCleaner#2\": {\n",
    "            \"column\": \"remarks\",\n",
    "            \"stopwords\": False,\n",
    "        }\n",
    "    }\n",
    "}"
   ]
  },
  {
   "cell_type": "code",
   "execution_count": 28,
   "metadata": {},
   "outputs": [],
   "source": [
    "from mlblocks import MLPipeline\n",
    "\n",
    "pipeline = MLPipeline(pipeline_dict)"
   ]
  },
  {
   "cell_type": "code",
   "execution_count": 29,
   "metadata": {},
   "outputs": [
    {
     "data": {
      "text/plain": [
       "['mlprimitives.custom.text.TextCleaner',\n",
       " 'mlprimitives.custom.text.TextCleaner',\n",
       " 'mlprimitives.custom.feature_extraction.StringVectorizer',\n",
       " 'mlprimitives.custom.feature_extraction.CategoricalEncoder',\n",
       " 'sklearn.impute.SimpleImputer',\n",
       " 'mlprimitives.custom.feature_selection.ExtraTreesRegressorFeatureSelector',\n",
       " 'xgboost.XGBRegressor']"
      ]
     },
     "execution_count": 29,
     "metadata": {},
     "output_type": "execute_result"
    }
   ],
   "source": [
    "pipeline.primitives"
   ]
  },
  {
   "cell_type": "code",
   "execution_count": 30,
   "metadata": {},
   "outputs": [],
   "source": [
    "X_train, X_test, y_train, y_test = reviews.get_splits(1)"
   ]
  },
  {
   "cell_type": "code",
   "execution_count": 31,
   "metadata": {
    "scrolled": true
   },
   "outputs": [
    {
     "name": "stderr",
     "output_type": "stream",
     "text": [
      "/home/xals/.virtualenvs/mlprimitives-demo/lib/python3.6/site-packages/sklearn/ensemble/forest.py:246: FutureWarning: The default value of n_estimators will change from 10 in version 0.20 to 100 in 0.22.\n",
      "  \"10 in version 0.20 to 100 in 0.22.\", FutureWarning)\n"
     ]
    },
    {
     "name": "stdout",
     "output_type": "stream",
     "text": [
      "[17:35:02] WARNING: /workspace/src/objective/regression_obj.cu:152: reg:linear is now deprecated in favor of reg:squarederror.\n"
     ]
    }
   ],
   "source": [
    "pipeline.fit(X_train, y_train)"
   ]
  },
  {
   "cell_type": "code",
   "execution_count": 32,
   "metadata": {},
   "outputs": [],
   "source": [
    "pred = pipeline.predict(X_test)"
   ]
  },
  {
   "cell_type": "code",
   "execution_count": 33,
   "metadata": {},
   "outputs": [
    {
     "data": {
      "text/plain": [
       "array([-1,  2,  1,  2, -2])"
      ]
     },
     "execution_count": 33,
     "metadata": {},
     "output_type": "execute_result"
    }
   ],
   "source": [
    "y_test[0:5]"
   ]
  },
  {
   "cell_type": "code",
   "execution_count": 34,
   "metadata": {},
   "outputs": [
    {
     "data": {
      "text/plain": [
       "array([-0.80070484,  1.2240283 ,  1.0889438 , -1.1889812 , -1.9127965 ],\n",
       "      dtype=float32)"
      ]
     },
     "execution_count": 34,
     "metadata": {},
     "output_type": "execute_result"
    }
   ],
   "source": [
    "pred[0:5]"
   ]
  },
  {
   "cell_type": "code",
   "execution_count": 35,
   "metadata": {
    "scrolled": true
   },
   "outputs": [
    {
     "data": {
      "text/plain": [
       "0.5639611484207994"
      ]
     },
     "execution_count": 35,
     "metadata": {},
     "output_type": "execute_result"
    }
   ],
   "source": [
    "reviews.score(y_test, pred)"
   ]
  }
 ],
 "metadata": {
  "kernelspec": {
   "display_name": "Python 3",
   "language": "python",
   "name": "python3"
  },
  "language_info": {
   "codemirror_mode": {
    "name": "ipython",
    "version": 3
   },
   "file_extension": ".py",
   "mimetype": "text/x-python",
   "name": "python",
   "nbconvert_exporter": "python",
   "pygments_lexer": "ipython3",
   "version": "3.6.9"
  }
 },
 "nbformat": 4,
 "nbformat_minor": 2
}
