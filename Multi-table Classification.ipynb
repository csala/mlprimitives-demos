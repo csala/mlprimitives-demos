{
 "cells": [
  {
   "cell_type": "code",
   "execution_count": 3,
   "metadata": {},
   "outputs": [],
   "source": [
    "import json\n",
    "\n",
    "def pp(a_dict):\n",
    "    print(json.dumps(a_dict, indent=4))"
   ]
  },
  {
   "cell_type": "code",
   "execution_count": 4,
   "metadata": {},
   "outputs": [],
   "source": [
    "from mit_d3m import load_dataset\n",
    "\n",
    "dataset = load_dataset('kaggle_open_powerlifting_competition_genders', '.')"
   ]
  },
  {
   "cell_type": "code",
   "execution_count": 3,
   "metadata": {},
   "outputs": [
    {
     "data": {
      "text/html": [
       "<div>\n",
       "<style scoped>\n",
       "    .dataframe tbody tr th:only-of-type {\n",
       "        vertical-align: middle;\n",
       "    }\n",
       "\n",
       "    .dataframe tbody tr th {\n",
       "        vertical-align: top;\n",
       "    }\n",
       "\n",
       "    .dataframe thead th {\n",
       "        text-align: right;\n",
       "    }\n",
       "</style>\n",
       "<table border=\"1\" class=\"dataframe\">\n",
       "  <thead>\n",
       "    <tr style=\"text-align: right;\">\n",
       "      <th></th>\n",
       "      <th>d3mIndex</th>\n",
       "      <th>MeetID</th>\n",
       "      <th>Name</th>\n",
       "      <th>Equipment</th>\n",
       "      <th>Age</th>\n",
       "      <th>Division</th>\n",
       "      <th>BodyweightKg</th>\n",
       "      <th>WeightClassKg</th>\n",
       "      <th>Squat4Kg</th>\n",
       "      <th>BestSquatKg</th>\n",
       "      <th>Bench4Kg</th>\n",
       "      <th>BestBenchKg</th>\n",
       "      <th>Deadlift4Kg</th>\n",
       "      <th>BestDeadliftKg</th>\n",
       "      <th>TotalKg</th>\n",
       "      <th>Place</th>\n",
       "      <th>Wilks</th>\n",
       "    </tr>\n",
       "    <tr>\n",
       "      <th>d3mIndex</th>\n",
       "      <th></th>\n",
       "      <th></th>\n",
       "      <th></th>\n",
       "      <th></th>\n",
       "      <th></th>\n",
       "      <th></th>\n",
       "      <th></th>\n",
       "      <th></th>\n",
       "      <th></th>\n",
       "      <th></th>\n",
       "      <th></th>\n",
       "      <th></th>\n",
       "      <th></th>\n",
       "      <th></th>\n",
       "      <th></th>\n",
       "      <th></th>\n",
       "      <th></th>\n",
       "    </tr>\n",
       "  </thead>\n",
       "  <tbody>\n",
       "    <tr>\n",
       "      <th>0</th>\n",
       "      <td>0</td>\n",
       "      <td>0</td>\n",
       "      <td>Angie Belk Terry</td>\n",
       "      <td>Wraps</td>\n",
       "      <td>47.0</td>\n",
       "      <td>Mst 45-49</td>\n",
       "      <td>59.60</td>\n",
       "      <td>60</td>\n",
       "      <td>0.0</td>\n",
       "      <td>47.63</td>\n",
       "      <td>0.0</td>\n",
       "      <td>20.41</td>\n",
       "      <td>0.0</td>\n",
       "      <td>70.31</td>\n",
       "      <td>138.35</td>\n",
       "      <td>1</td>\n",
       "      <td>155.05</td>\n",
       "    </tr>\n",
       "    <tr>\n",
       "      <th>1</th>\n",
       "      <td>1</td>\n",
       "      <td>0</td>\n",
       "      <td>Dawn Bogart</td>\n",
       "      <td>Single-ply</td>\n",
       "      <td>42.0</td>\n",
       "      <td>Mst 40-44</td>\n",
       "      <td>58.51</td>\n",
       "      <td>60</td>\n",
       "      <td>0.0</td>\n",
       "      <td>142.88</td>\n",
       "      <td>0.0</td>\n",
       "      <td>95.25</td>\n",
       "      <td>0.0</td>\n",
       "      <td>163.29</td>\n",
       "      <td>401.42</td>\n",
       "      <td>1</td>\n",
       "      <td>456.38</td>\n",
       "    </tr>\n",
       "    <tr>\n",
       "      <th>2</th>\n",
       "      <td>2</td>\n",
       "      <td>0</td>\n",
       "      <td>Dawn Bogart</td>\n",
       "      <td>Single-ply</td>\n",
       "      <td>42.0</td>\n",
       "      <td>Open Senior</td>\n",
       "      <td>58.51</td>\n",
       "      <td>60</td>\n",
       "      <td>0.0</td>\n",
       "      <td>142.88</td>\n",
       "      <td>0.0</td>\n",
       "      <td>95.25</td>\n",
       "      <td>0.0</td>\n",
       "      <td>163.29</td>\n",
       "      <td>401.42</td>\n",
       "      <td>1</td>\n",
       "      <td>456.38</td>\n",
       "    </tr>\n",
       "    <tr>\n",
       "      <th>3</th>\n",
       "      <td>3</td>\n",
       "      <td>0</td>\n",
       "      <td>Dawn Bogart</td>\n",
       "      <td>Raw</td>\n",
       "      <td>42.0</td>\n",
       "      <td>Open Senior</td>\n",
       "      <td>58.51</td>\n",
       "      <td>60</td>\n",
       "      <td>0.0</td>\n",
       "      <td>0.00</td>\n",
       "      <td>0.0</td>\n",
       "      <td>95.25</td>\n",
       "      <td>0.0</td>\n",
       "      <td>0.00</td>\n",
       "      <td>95.25</td>\n",
       "      <td>1</td>\n",
       "      <td>108.29</td>\n",
       "    </tr>\n",
       "    <tr>\n",
       "      <th>4</th>\n",
       "      <td>4</td>\n",
       "      <td>0</td>\n",
       "      <td>Destiny Dula</td>\n",
       "      <td>Raw</td>\n",
       "      <td>18.0</td>\n",
       "      <td>Teen 18-19</td>\n",
       "      <td>63.68</td>\n",
       "      <td>67.5</td>\n",
       "      <td>0.0</td>\n",
       "      <td>0.00</td>\n",
       "      <td>0.0</td>\n",
       "      <td>31.75</td>\n",
       "      <td>0.0</td>\n",
       "      <td>90.72</td>\n",
       "      <td>122.47</td>\n",
       "      <td>1</td>\n",
       "      <td>130.47</td>\n",
       "    </tr>\n",
       "  </tbody>\n",
       "</table>\n",
       "</div>"
      ],
      "text/plain": [
       "          d3mIndex  MeetID              Name   Equipment   Age     Division  \\\n",
       "d3mIndex                                                                      \n",
       "0                0       0  Angie Belk Terry       Wraps  47.0    Mst 45-49   \n",
       "1                1       0       Dawn Bogart  Single-ply  42.0    Mst 40-44   \n",
       "2                2       0       Dawn Bogart  Single-ply  42.0  Open Senior   \n",
       "3                3       0       Dawn Bogart         Raw  42.0  Open Senior   \n",
       "4                4       0      Destiny Dula         Raw  18.0   Teen 18-19   \n",
       "\n",
       "          BodyweightKg WeightClassKg  Squat4Kg  BestSquatKg  Bench4Kg  \\\n",
       "d3mIndex                                                                \n",
       "0                59.60            60       0.0        47.63       0.0   \n",
       "1                58.51            60       0.0       142.88       0.0   \n",
       "2                58.51            60       0.0       142.88       0.0   \n",
       "3                58.51            60       0.0         0.00       0.0   \n",
       "4                63.68          67.5       0.0         0.00       0.0   \n",
       "\n",
       "          BestBenchKg  Deadlift4Kg  BestDeadliftKg  TotalKg Place   Wilks  \n",
       "d3mIndex                                                                   \n",
       "0               20.41          0.0           70.31   138.35     1  155.05  \n",
       "1               95.25          0.0          163.29   401.42     1  456.38  \n",
       "2               95.25          0.0          163.29   401.42     1  456.38  \n",
       "3               95.25          0.0            0.00    95.25     1  108.29  \n",
       "4               31.75          0.0           90.72   122.47     1  130.47  "
      ]
     },
     "execution_count": 3,
     "metadata": {},
     "output_type": "execute_result"
    }
   ],
   "source": [
    "dataset.X.head()"
   ]
  },
  {
   "cell_type": "code",
   "execution_count": 4,
   "metadata": {},
   "outputs": [
    {
     "data": {
      "text/plain": [
       "dict_keys(['target_entity', 'entities', 'relationships'])"
      ]
     },
     "execution_count": 4,
     "metadata": {},
     "output_type": "execute_result"
    }
   ],
   "source": [
    "dataset.context.keys()"
   ]
  },
  {
   "cell_type": "code",
   "execution_count": 5,
   "metadata": {},
   "outputs": [],
   "source": [
    "from mlblocks.discovery import find_pipelines, load_pipeline, load_primitive"
   ]
  },
  {
   "cell_type": "code",
   "execution_count": 6,
   "metadata": {},
   "outputs": [
    {
     "data": {
      "text/plain": [
       "['multi_table.classification.dfs.xgb']"
      ]
     },
     "execution_count": 6,
     "metadata": {},
     "output_type": "execute_result"
    }
   ],
   "source": [
    "filters = {\n",
    "    'metadata.data_type': 'multi_table'\n",
    "}\n",
    "find_pipelines(filters=filters)"
   ]
  },
  {
   "cell_type": "code",
   "execution_count": 7,
   "metadata": {},
   "outputs": [],
   "source": [
    "pipeline_name = 'multi_table.classification.dfs.xgb'"
   ]
  },
  {
   "cell_type": "code",
   "execution_count": 8,
   "metadata": {},
   "outputs": [
    {
     "name": "stdout",
     "output_type": "stream",
     "text": [
      "{\n",
      "    \"metadata\": {\n",
      "        \"name\": \"multi_table/classification/dfs/xgb\",\n",
      "        \"data_type\": \"multi_table\",\n",
      "        \"task_type\": \"classification\"\n",
      "    },\n",
      "    \"validation\": {\n",
      "        \"dataset\": \"wikiqa\",\n",
      "        \"context\": {\n",
      "            \"entities\": \"$entities\",\n",
      "            \"relationships\": \"$relationships\",\n",
      "            \"target_entity\": \"data\"\n",
      "        }\n",
      "    },\n",
      "    \"primitives\": [\n",
      "        \"mlprimitives.custom.preprocessing.ClassEncoder\",\n",
      "        \"featuretools.dfs\",\n",
      "        \"xgboost.XGBClassifier\",\n",
      "        \"mlprimitives.custom.preprocessing.ClassDecoder\"\n",
      "    ],\n",
      "    \"hyperparameters\": {\n",
      "        \"featuretools.dfs#1\": {\n",
      "            \"encode\": true\n",
      "        }\n",
      "    }\n",
      "}\n"
     ]
    }
   ],
   "source": [
    "pp(load_pipeline(pipeline_name))"
   ]
  },
  {
   "cell_type": "code",
   "execution_count": 9,
   "metadata": {},
   "outputs": [],
   "source": [
    "pipeline_dict = load_pipeline(pipeline_name)"
   ]
  },
  {
   "cell_type": "code",
   "execution_count": 10,
   "metadata": {},
   "outputs": [
    {
     "name": "stdout",
     "output_type": "stream",
     "text": [
      "{\n",
      "    \"metadata\": {\n",
      "        \"name\": \"multi_table/classification/dfs/xgb\",\n",
      "        \"data_type\": \"multi_table\",\n",
      "        \"task_type\": \"classification\"\n",
      "    },\n",
      "    \"validation\": {\n",
      "        \"dataset\": \"wikiqa\",\n",
      "        \"context\": {\n",
      "            \"entities\": \"$entities\",\n",
      "            \"relationships\": \"$relationships\",\n",
      "            \"target_entity\": \"data\"\n",
      "        }\n",
      "    },\n",
      "    \"primitives\": [\n",
      "        \"mlprimitives.custom.preprocessing.ClassEncoder\",\n",
      "        \"featuretools.dfs\",\n",
      "        \"xgboost.XGBClassifier\",\n",
      "        \"mlprimitives.custom.preprocessing.ClassDecoder\"\n",
      "    ],\n",
      "    \"hyperparameters\": {\n",
      "        \"featuretools.dfs#1\": {\n",
      "            \"encode\": true\n",
      "        }\n",
      "    }\n",
      "}\n"
     ]
    }
   ],
   "source": [
    "pp(pipeline_dict)"
   ]
  },
  {
   "cell_type": "code",
   "execution_count": 11,
   "metadata": {},
   "outputs": [],
   "source": [
    "from mlblocks import MLPipeline\n",
    "\n",
    "pipeline = MLPipeline(pipeline_name)"
   ]
  },
  {
   "cell_type": "code",
   "execution_count": 12,
   "metadata": {},
   "outputs": [
    {
     "data": {
      "text/plain": [
       "['mlprimitives.custom.preprocessing.ClassEncoder',\n",
       " 'featuretools.dfs',\n",
       " 'xgboost.XGBClassifier',\n",
       " 'mlprimitives.custom.preprocessing.ClassDecoder']"
      ]
     },
     "execution_count": 12,
     "metadata": {},
     "output_type": "execute_result"
    }
   ],
   "source": [
    "pipeline.primitives"
   ]
  },
  {
   "cell_type": "code",
   "execution_count": 13,
   "metadata": {},
   "outputs": [],
   "source": [
    "from sklearn.model_selection import train_test_split\n",
    "\n",
    "X_train, X_test, y_train, y_test = train_test_split(\n",
    "    dataset.X, dataset.y, random_state=0)"
   ]
  },
  {
   "cell_type": "code",
   "execution_count": null,
   "metadata": {
    "scrolled": true
   },
   "outputs": [],
   "source": [
    "pipeline.fit(X_train, y_train, **dataset.context)"
   ]
  },
  {
   "cell_type": "code",
   "execution_count": 358,
   "metadata": {},
   "outputs": [],
   "source": [
    "pred = pipeline.predict(X_test, **dataset.context)"
   ]
  },
  {
   "cell_type": "code",
   "execution_count": 359,
   "metadata": {},
   "outputs": [
    {
     "data": {
      "text/plain": [
       "array([-1,  2,  1,  2, -2])"
      ]
     },
     "execution_count": 359,
     "metadata": {},
     "output_type": "execute_result"
    }
   ],
   "source": [
    "y_test[0:5]"
   ]
  },
  {
   "cell_type": "code",
   "execution_count": 360,
   "metadata": {},
   "outputs": [
    {
     "data": {
      "text/plain": [
       "array([-0.6234695,  1.3974648,  1.1146162, -1.0825578, -1.8206911],\n",
       "      dtype=float32)"
      ]
     },
     "execution_count": 360,
     "metadata": {},
     "output_type": "execute_result"
    }
   ],
   "source": [
    "pred[0:5]"
   ]
  },
  {
   "cell_type": "code",
   "execution_count": 361,
   "metadata": {
    "scrolled": true
   },
   "outputs": [
    {
     "data": {
      "text/plain": [
       "0.5850926550927207"
      ]
     },
     "execution_count": 361,
     "metadata": {},
     "output_type": "execute_result"
    }
   ],
   "source": [
    "reviews.score(y_test, pred)"
   ]
  }
 ],
 "metadata": {
  "kernelspec": {
   "display_name": "Python 3",
   "language": "python",
   "name": "python3"
  },
  "language_info": {
   "codemirror_mode": {
    "name": "ipython",
    "version": 3
   },
   "file_extension": ".py",
   "mimetype": "text/x-python",
   "name": "python",
   "nbconvert_exporter": "python",
   "pygments_lexer": "ipython3",
   "version": "3.6.9"
  }
 },
 "nbformat": 4,
 "nbformat_minor": 2
}
